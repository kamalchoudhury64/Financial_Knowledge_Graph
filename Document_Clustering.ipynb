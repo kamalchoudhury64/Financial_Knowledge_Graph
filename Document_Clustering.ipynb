{
 "cells": [
  {
   "cell_type": "code",
   "execution_count": 1,
   "metadata": {},
   "outputs": [],
   "source": [
    "# !pip install -U sentence-transformers"
   ]
  },
  {
   "cell_type": "code",
   "execution_count": 2,
   "metadata": {},
   "outputs": [
    {
     "name": "stdout",
     "output_type": "stream",
     "text": [
      "D:\\US\\2018_01_112b52537b67659ad3609a234388c50a\n",
      "D:\\US\\2018_02_112b52537b67659ad3609a234388c50a\n",
      "D:\\US\\2018_03_112b52537b67659ad3609a234388c50a\n",
      "D:\\US\\2018_04_112b52537b67659ad3609a234388c50a\n",
      "D:\\US\\2018_05_112b52537b67659ad3609a234388c50a\n",
      "D:\\US\\3811_112b52537b67659ad3609a234388c50a\n",
      "D:\\US\\Left_1\n",
      "3000\n"
     ]
    }
   ],
   "source": [
    "\n",
    "\n",
    "import numpy as np # linear algebra\n",
    "import pandas as pd # data processing, CSV file I/O (e.g. pd.read_csv)\n",
    "import re \n",
    "import os\n",
    "import json\n",
    "\n",
    "# Input data files are available in the read-only \"../input/\" directory\n",
    "# For example, running this (by clicking run or pressing Shift+Enter) will list all files under the input directory\n",
    "\n",
    "monthdir = []\n",
    "address = r'D:\\US'\n",
    "for filenames in os.listdir(address):\n",
    "    monthdir.append(os.path.join(address,filenames))\n",
    "for addresses in monthdir :\n",
    "    print(addresses)\n",
    "    \n",
    "count = 0\n",
    "\n",
    "text_array = []\n",
    "for filename in os.listdir(monthdir[0]) :\n",
    "    file_p = open(monthdir[0]+'/'+filename,encoding='utf8')\n",
    "    count+=1\n",
    "    if(count<3000):\n",
    "        temp_data = json.load(file_p)\n",
    "        text_array.append(temp_data['text'])\n",
    "    else :\n",
    "        break\n",
    "    \n",
    "print(count)\n",
    "\n",
    "# You can write up to 20GB to the current directory (/kaggle/working/) that gets preserved as output when you create a version using \"Save & Run All\" \n",
    "# You can also write temporary files to /kaggle/temp/, but they won't be saved outside of the current session"
   ]
  },
  {
   "cell_type": "code",
   "execution_count": 3,
   "metadata": {},
   "outputs": [],
   "source": [
    "from sentence_transformers import SentenceTransformer\n",
    "from sklearn.cluster import KMeans"
   ]
  },
  {
   "cell_type": "code",
   "execution_count": 4,
   "metadata": {},
   "outputs": [],
   "source": [
    "embedder = SentenceTransformer('distilbert-base-nli-stsb-mean-tokens')\n"
   ]
  },
  {
   "cell_type": "code",
   "execution_count": 5,
   "metadata": {},
   "outputs": [],
   "source": [
    "corpus = text_array"
   ]
  },
  {
   "cell_type": "code",
   "execution_count": 6,
   "metadata": {},
   "outputs": [],
   "source": [
    "corpus_embeddings = embedder.encode(corpus)"
   ]
  },
  {
   "cell_type": "code",
   "execution_count": 7,
   "metadata": {},
   "outputs": [],
   "source": [
    "# Then, we perform k-means clustering using sklearn:\n",
    "from sklearn.cluster import KMeans\n",
    "\n",
    "num_clusters = 50\n",
    "clustering_model = KMeans(n_clusters=num_clusters)\n",
    "clustering_model.fit(corpus_embeddings)\n",
    "cluster_assignment = clustering_model.labels_"
   ]
  },
  {
   "cell_type": "code",
   "execution_count": 8,
   "metadata": {},
   "outputs": [
    {
     "data": {
      "text/plain": [
       "array([17, 42, 20, ...,  0,  3, 23])"
      ]
     },
     "execution_count": 8,
     "metadata": {},
     "output_type": "execute_result"
    }
   ],
   "source": [
    "cluster_assignment"
   ]
  },
  {
   "cell_type": "code",
   "execution_count": 9,
   "metadata": {
    "scrolled": true
   },
   "outputs": [],
   "source": [
    "with open('cluster_index.txt', 'w') as f:\n",
    "    for d in cluster_assignment: \n",
    "        f.write(str(d)+',')"
   ]
  },
  {
   "cell_type": "code",
   "execution_count": 10,
   "metadata": {},
   "outputs": [
    {
     "name": "stdout",
     "output_type": "stream",
     "text": [
      "{17: 68, 42: 61, 20: 66, 11: 65, 23: 68, 14: 52, 44: 76, 13: 120, 24: 129, 16: 34, 38: 31, 2: 60, 49: 68, 19: 65, 1: 101, 18: 58, 12: 37, 26: 33, 25: 26, 39: 41, 41: 36, 31: 56, 40: 46, 4: 69, 22: 84, 10: 57, 5: 81, 15: 80, 35: 59, 21: 42, 9: 66, 28: 33, 36: 54, 0: 38, 3: 44, 7: 59, 46: 81, 32: 101, 33: 50, 34: 97, 8: 55, 37: 56, 6: 78, 27: 65, 45: 78, 29: 52, 43: 5, 30: 50, 47: 27, 48: 41}\n"
     ]
    }
   ],
   "source": [
    "dict_cluster = {}\n",
    "for row in cluster_assignment:\n",
    "    dict_cluster[row] = 0\n",
    "for row in cluster_assignment:\n",
    "    dict_cluster[row] += 1\n",
    "print(dict_cluster)"
   ]
  },
  {
   "cell_type": "code",
   "execution_count": null,
   "metadata": {},
   "outputs": [],
   "source": []
  }
 ],
 "metadata": {
  "kernelspec": {
   "display_name": "Python 3",
   "language": "python",
   "name": "python3"
  },
  "language_info": {
   "codemirror_mode": {
    "name": "ipython",
    "version": 3
   },
   "file_extension": ".py",
   "mimetype": "text/x-python",
   "name": "python",
   "nbconvert_exporter": "python",
   "pygments_lexer": "ipython3",
   "version": "3.8.5"
  }
 },
 "nbformat": 4,
 "nbformat_minor": 4
}
